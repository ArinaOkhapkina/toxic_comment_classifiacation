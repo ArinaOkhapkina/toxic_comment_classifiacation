{
 "cells": [
  {
   "cell_type": "code",
   "execution_count": 149,
   "metadata": {},
   "outputs": [],
   "source": [
    "import pandas as pd\n",
    "from sklearn.model_selection import train_test_split\n",
    "import nltk\n",
    "import string\n",
    "from nltk.corpus import stopwords\n",
    "from nltk.tokenize import word_tokenize\n",
    "from nltk.stem import SnowballStemmer\n",
    "from sklearn.pipeline import Pipeline\n",
    "from sklearn.tree import DecisionTreeClassifier # Import Decision Tree Classifier\n",
    "from sklearn.model_selection import train_test_split # Import train_test_split function\n",
    "from sklearn.linear_model import LogisticRegression\n",
    "from sklearn.linear_model import LinearRegression\n",
    "from sklearn.feature_extraction.text import TfidfVectorizer\n",
    "from sklearn.metrics import precision_score, recall_score, precision_recall_curve\n",
    "from matplotlib import pyplot as plt\n",
    "from sklearn.metrics import plot_precision_recall_curve\n",
    "import numpy as np\n",
    "from sklearn.model_selection import GridSearchCV\n",
    "from sklearn import svm"
   ]
  },
  {
   "cell_type": "code",
   "execution_count": 95,
   "metadata": {},
   "outputs": [],
   "source": [
    "df = pd.read_csv(\"./data/labeled.csv\", sep=\",\")"
   ]
  },
  {
   "cell_type": "code",
   "execution_count": 96,
   "metadata": {},
   "outputs": [],
   "source": [
    "df[\"toxic\"] = df[\"toxic\"].apply(int)"
   ]
  },
  {
   "cell_type": "code",
   "execution_count": 97,
   "metadata": {},
   "outputs": [
    {
     "data": {
      "text/html": [
       "<div>\n",
       "<style scoped>\n",
       "    .dataframe tbody tr th:only-of-type {\n",
       "        vertical-align: middle;\n",
       "    }\n",
       "\n",
       "    .dataframe tbody tr th {\n",
       "        vertical-align: top;\n",
       "    }\n",
       "\n",
       "    .dataframe thead th {\n",
       "        text-align: right;\n",
       "    }\n",
       "</style>\n",
       "<table border=\"1\" class=\"dataframe\">\n",
       "  <thead>\n",
       "    <tr style=\"text-align: right;\">\n",
       "      <th></th>\n",
       "      <th>comment</th>\n",
       "      <th>toxic</th>\n",
       "    </tr>\n",
       "  </thead>\n",
       "  <tbody>\n",
       "    <tr>\n",
       "      <th>0</th>\n",
       "      <td>Верблюдов-то за что? Дебилы, бл...\\n</td>\n",
       "      <td>1</td>\n",
       "    </tr>\n",
       "    <tr>\n",
       "      <th>1</th>\n",
       "      <td>Хохлы, это отдушина затюканого россиянина, мол...</td>\n",
       "      <td>1</td>\n",
       "    </tr>\n",
       "    <tr>\n",
       "      <th>2</th>\n",
       "      <td>Собаке - собачья смерть\\n</td>\n",
       "      <td>1</td>\n",
       "    </tr>\n",
       "    <tr>\n",
       "      <th>3</th>\n",
       "      <td>Страницу обнови, дебил. Это тоже не оскорблени...</td>\n",
       "      <td>1</td>\n",
       "    </tr>\n",
       "    <tr>\n",
       "      <th>4</th>\n",
       "      <td>тебя не убедил 6-страничный пдф в том, что Скр...</td>\n",
       "      <td>1</td>\n",
       "    </tr>\n",
       "    <tr>\n",
       "      <th>5</th>\n",
       "      <td>Для каких стан является эталоном современная с...</td>\n",
       "      <td>1</td>\n",
       "    </tr>\n",
       "    <tr>\n",
       "      <th>6</th>\n",
       "      <td>В шапке были ссылки на инфу по текущему фильму...</td>\n",
       "      <td>0</td>\n",
       "    </tr>\n",
       "    <tr>\n",
       "      <th>7</th>\n",
       "      <td>УПАД Т! ТАМ НЕЛЬЗЯ СТРОИТЬ! ТЕХНОЛОГИЙ НЕТ! РА...</td>\n",
       "      <td>1</td>\n",
       "    </tr>\n",
       "    <tr>\n",
       "      <th>8</th>\n",
       "      <td>Ебать тебя разносит, шизик.\\n</td>\n",
       "      <td>1</td>\n",
       "    </tr>\n",
       "    <tr>\n",
       "      <th>9</th>\n",
       "      <td>Обосрался, сиди обтекай\\n</td>\n",
       "      <td>1</td>\n",
       "    </tr>\n",
       "  </tbody>\n",
       "</table>\n",
       "</div>"
      ],
      "text/plain": [
       "                                             comment  toxic\n",
       "0               Верблюдов-то за что? Дебилы, бл...\\n      1\n",
       "1  Хохлы, это отдушина затюканого россиянина, мол...      1\n",
       "2                          Собаке - собачья смерть\\n      1\n",
       "3  Страницу обнови, дебил. Это тоже не оскорблени...      1\n",
       "4  тебя не убедил 6-страничный пдф в том, что Скр...      1\n",
       "5  Для каких стан является эталоном современная с...      1\n",
       "6  В шапке были ссылки на инфу по текущему фильму...      0\n",
       "7  УПАД Т! ТАМ НЕЛЬЗЯ СТРОИТЬ! ТЕХНОЛОГИЙ НЕТ! РА...      1\n",
       "8                      Ебать тебя разносит, шизик.\\n      1\n",
       "9                          Обосрался, сиди обтекай\\n      1"
      ]
     },
     "execution_count": 97,
     "metadata": {},
     "output_type": "execute_result"
    }
   ],
   "source": [
    "df.head(10)"
   ]
  },
  {
   "cell_type": "code",
   "execution_count": 98,
   "metadata": {},
   "outputs": [
    {
     "data": {
      "text/plain": [
       "0    9586\n",
       "1    4826\n",
       "Name: toxic, dtype: int64"
      ]
     },
     "execution_count": 98,
     "metadata": {},
     "output_type": "execute_result"
    }
   ],
   "source": [
    "df[\"toxic\"].value_counts()"
   ]
  },
  {
   "cell_type": "code",
   "execution_count": 99,
   "metadata": {},
   "outputs": [],
   "source": [
    "train_df, test_df = train_test_split(df, test_size=500)"
   ]
  },
  {
   "cell_type": "code",
   "execution_count": null,
   "metadata": {},
   "outputs": [],
   "source": []
  },
  {
   "cell_type": "code",
   "execution_count": 100,
   "metadata": {},
   "outputs": [
    {
     "data": {
      "text/plain": [
       "0    347\n",
       "1    153\n",
       "Name: toxic, dtype: int64"
      ]
     },
     "execution_count": 100,
     "metadata": {},
     "output_type": "execute_result"
    }
   ],
   "source": [
    "test_df[\"toxic\"].value_counts()"
   ]
  },
  {
   "cell_type": "code",
   "execution_count": 101,
   "metadata": {},
   "outputs": [
    {
     "data": {
      "text/plain": [
       "0    9239\n",
       "1    4673\n",
       "Name: toxic, dtype: int64"
      ]
     },
     "execution_count": 101,
     "metadata": {},
     "output_type": "execute_result"
    }
   ],
   "source": [
    "train_df[\"toxic\"].value_counts()"
   ]
  },
  {
   "cell_type": "code",
   "execution_count": 102,
   "metadata": {},
   "outputs": [],
   "source": [
    "snowball = SnowballStemmer(language=\"russian\")\n",
    "russian_stop_words = stopwords.words(\"russian\")\n",
    "\n",
    "def tokenize_sentence(sentence: str, remove_stop_words: bool = True):\n",
    "    tokens = word_tokenize(sentence, language=\"russian\")\n",
    "    tokens = [i for i in tokens if i not in string.punctuation]\n",
    "    if remove_stop_words:\n",
    "        tokens = [i for i in tokens if i not in russian_stop_words]\n",
    "    tokens = [snowball.stem(i) for i in tokens]\n",
    "    return tokens"
   ]
  },
  {
   "cell_type": "markdown",
   "metadata": {},
   "source": [
    "# SVC"
   ]
  },
  {
   "cell_type": "code",
   "execution_count": 195,
   "metadata": {},
   "outputs": [],
   "source": [
    "# choice best kernal\n",
    "svm_grid_pipeline = Pipeline([\n",
    "    (\"vectorizer\", TfidfVectorizer(tokenizer=lambda x: tokenize_sentence(x, remove_stop_words=True))),\n",
    "    (\"model\", \n",
    "     GridSearchCV(\n",
    "        svm.SVC(),\n",
    "        param_grid={ \"kernel\" : ['linear', 'poly', 'rbf', 'sigmoid']},\n",
    "        cv=3,\n",
    "         verbose=4\n",
    "        )\n",
    "    )\n",
    "])"
   ]
  },
  {
   "cell_type": "code",
   "execution_count": 196,
   "metadata": {},
   "outputs": [
    {
     "name": "stdout",
     "output_type": "stream",
     "text": [
      "Fitting 3 folds for each of 4 candidates, totalling 12 fits\n",
      "[CV 1/3] END .....................kernel=linear;, score=0.873 total time=   9.1s\n",
      "[CV 2/3] END .....................kernel=linear;, score=0.869 total time=   9.2s\n",
      "[CV 3/3] END .....................kernel=linear;, score=0.862 total time=   9.2s\n",
      "[CV 1/3] END .......................kernel=poly;, score=0.678 total time=  27.1s\n",
      "[CV 2/3] END .......................kernel=poly;, score=0.675 total time=  25.9s\n",
      "[CV 3/3] END .......................kernel=poly;, score=0.674 total time=  26.5s\n",
      "[CV 1/3] END ........................kernel=rbf;, score=0.850 total time=  20.0s\n",
      "[CV 2/3] END ........................kernel=rbf;, score=0.849 total time=  18.1s\n",
      "[CV 3/3] END ........................kernel=rbf;, score=0.844 total time=  20.1s\n",
      "[CV 1/3] END ....................kernel=sigmoid;, score=0.872 total time=  10.8s\n",
      "[CV 2/3] END ....................kernel=sigmoid;, score=0.868 total time=  10.1s\n",
      "[CV 3/3] END ....................kernel=sigmoid;, score=0.862 total time=  10.0s\n"
     ]
    },
    {
     "data": {
      "text/plain": [
       "Pipeline(steps=[('vectorizer',\n",
       "                 TfidfVectorizer(tokenizer=<function <lambda> at 0x3492FD60>)),\n",
       "                ('model',\n",
       "                 GridSearchCV(cv=3, estimator=SVC(),\n",
       "                              param_grid={'kernel': ['linear', 'poly', 'rbf',\n",
       "                                                     'sigmoid']},\n",
       "                              verbose=4))])"
      ]
     },
     "execution_count": 196,
     "metadata": {},
     "output_type": "execute_result"
    }
   ],
   "source": [
    "svm_grid_pipeline.fit(train_df[\"comment\"], train_df[\"toxic\"])"
   ]
  },
  {
   "cell_type": "code",
   "execution_count": 168,
   "metadata": {},
   "outputs": [],
   "source": [
    "svm_pipeline = Pipeline([\n",
    "    (\"vectorizer\", TfidfVectorizer(tokenizer=lambda x: tokenize_sentence(x, remove_stop_words=True))),\n",
    "    (\"model\", svm.SVC(kernel='linear', probability=True))\n",
    "]\n",
    ")"
   ]
  },
  {
   "cell_type": "code",
   "execution_count": 169,
   "metadata": {},
   "outputs": [
    {
     "data": {
      "text/plain": [
       "Pipeline(steps=[('vectorizer',\n",
       "                 TfidfVectorizer(tokenizer=<function <lambda> at 0x347E5B20>)),\n",
       "                ('model', SVC(kernel='linear', probability=True))])"
      ]
     },
     "execution_count": 169,
     "metadata": {},
     "output_type": "execute_result"
    }
   ],
   "source": [
    "svm_pipeline.fit(train_df[\"comment\"], train_df[\"toxic\"])"
   ]
  },
  {
   "cell_type": "code",
   "execution_count": 170,
   "metadata": {},
   "outputs": [
    {
     "data": {
      "text/plain": [
       "0.8805970149253731"
      ]
     },
     "execution_count": 170,
     "metadata": {},
     "output_type": "execute_result"
    }
   ],
   "source": [
    "precision_score(y_true=test_df[\"toxic\"], y_pred=svm_pipeline.predict(test_df[\"comment\"]))"
   ]
  },
  {
   "cell_type": "code",
   "execution_count": 171,
   "metadata": {},
   "outputs": [
    {
     "data": {
      "text/plain": [
       "0.7712418300653595"
      ]
     },
     "execution_count": 171,
     "metadata": {},
     "output_type": "execute_result"
    }
   ],
   "source": [
    "recall_score(y_true=test_df[\"toxic\"], y_pred=svm_pipeline.predict(test_df[\"comment\"]))"
   ]
  },
  {
   "cell_type": "code",
   "execution_count": 172,
   "metadata": {},
   "outputs": [
    {
     "name": "stderr",
     "output_type": "stream",
     "text": [
      "c:\\users\\arisha\\appdata\\local\\programs\\python\\python38-32\\lib\\site-packages\\sklearn\\utils\\deprecation.py:87: FutureWarning: Function plot_precision_recall_curve is deprecated; Function `plot_precision_recall_curve` is deprecated in 1.0 and will be removed in 1.2. Use one of the class methods: PrecisionRecallDisplay.from_predictions or PrecisionRecallDisplay.from_estimator.\n",
      "  warnings.warn(msg, category=FutureWarning)\n"
     ]
    },
    {
     "data": {
      "text/plain": [
       "<sklearn.metrics._plot.precision_recall_curve.PrecisionRecallDisplay at 0x18f00238>"
      ]
     },
     "execution_count": 172,
     "metadata": {},
     "output_type": "execute_result"
    },
    {
     "data": {
      "image/png": "[encoded data removed]",
      "text/plain": [
       "<Figure size 432x288 with 1 Axes>"
      ]
     },
     "metadata": {
      "needs_background": "light"
     },
     "output_type": "display_data"
    }
   ],
   "source": [
    "plot_precision_recall_curve(estimator=svm_pipeline, X=test_df[\"comment\"], y=test_df[\"toxic\"])"
   ]
  },
  {
   "cell_type": "code",
   "execution_count": 200,
   "metadata": {},
   "outputs": [],
   "source": [
    "svm_prec, svm_rec, svm_thresholds = precision_recall_curve(\n",
    "    y_true=test_df[\"toxic\"],\n",
    "    probas_pred=svm_pipeline.predict_proba(test_df[\"comment\"])[:, 1])"
   ]
  },
  {
   "cell_type": "code",
   "execution_count": 174,
   "metadata": {},
   "outputs": [
    {
     "data": {
      "text/plain": [
       "(array([417, 418, 419, 421, 422, 423, 424, 425, 426, 427, 428, 429, 430,\n",
       "        431, 432, 433, 434, 435, 436, 437, 438, 439, 459, 465, 466, 467,\n",
       "        468, 469, 470, 471, 472, 473, 474, 475, 476, 477, 478, 479, 480],\n",
       "       dtype=int32),)"
      ]
     },
     "execution_count": 174,
     "metadata": {},
     "output_type": "execute_result"
    }
   ],
   "source": [
    "np.where(svm_prec > 0.95)"
   ]
  },
  {
   "cell_type": "code",
   "execution_count": 199,
   "metadata": {},
   "outputs": [
    {
     "data": {
      "text/plain": [
       "0.9660923313926337"
      ]
     },
     "execution_count": 199,
     "metadata": {},
     "output_type": "execute_result"
    }
   ],
   "source": [
    "svm_thresholds[417]"
   ]
  },
  {
   "cell_type": "code",
   "execution_count": 175,
   "metadata": {},
   "outputs": [
    {
     "data": {
      "text/plain": [
       "0.9516129032258065"
      ]
     },
     "execution_count": 175,
     "metadata": {},
     "output_type": "execute_result"
    }
   ],
   "source": [
    "precision_score(y_true=test_df[\"toxic\"], y_pred=svm_pipeline.predict_proba(test_df[\"comment\"])[:, 1] > svm_thresholds[417])"
   ]
  },
  {
   "cell_type": "code",
   "execution_count": 176,
   "metadata": {},
   "outputs": [
    {
     "data": {
      "text/plain": [
       "0.38562091503267976"
      ]
     },
     "execution_count": 176,
     "metadata": {},
     "output_type": "execute_result"
    }
   ],
   "source": [
    "recall_score(y_true=test_df[\"toxic\"], y_pred=svm_pipeline.predict_proba(test_df[\"comment\"])[:, 1] > svm_thresholds[417])\n"
   ]
  },
  {
   "cell_type": "markdown",
   "metadata": {},
   "source": [
    "# Desition Trees"
   ]
  },
  {
   "cell_type": "code",
   "execution_count": 142,
   "metadata": {},
   "outputs": [],
   "source": [
    "dtc_grid_pipeline = Pipeline([\n",
    "    (\"vectorizer\", TfidfVectorizer(tokenizer=lambda x: tokenize_sentence(x, remove_stop_words=True))),\n",
    "    (\"model\", \n",
    "     GridSearchCV(\n",
    "        DecisionTreeClassifier(),\n",
    "        param_grid={'criterion': [\"gini\", \"entropy\"], 'max_depth':[25, 50, 75, 100, 200], 'min_samples_split': [2, 5, 10]},\n",
    "        cv=3,\n",
    "         verbose=4\n",
    "        )\n",
    "    )\n",
    "])"
   ]
  },
  {
   "cell_type": "code",
   "execution_count": 143,
   "metadata": {},
   "outputs": [
    {
     "name": "stdout",
     "output_type": "stream",
     "text": [
      "Fitting 3 folds for each of 30 candidates, totalling 90 fits\n",
      "[CV 1/3] END criterion=gini, max_depth=25, min_samples_split=2;, score=0.752 total time=   0.6s\n",
      "[CV 2/3] END criterion=gini, max_depth=25, min_samples_split=2;, score=0.740 total time=   0.6s\n",
      "[CV 3/3] END criterion=gini, max_depth=25, min_samples_split=2;, score=0.752 total time=   0.6s\n",
      "[CV 1/3] END criterion=gini, max_depth=25, min_samples_split=5;, score=0.752 total time=   0.6s\n",
      "[CV 2/3] END criterion=gini, max_depth=25, min_samples_split=5;, score=0.739 total time=   0.6s\n",
      "[CV 3/3] END criterion=gini, max_depth=25, min_samples_split=5;, score=0.751 total time=   0.6s\n",
      "[CV 1/3] END criterion=gini, max_depth=25, min_samples_split=10;, score=0.751 total time=   0.6s\n",
      "[CV 2/3] END criterion=gini, max_depth=25, min_samples_split=10;, score=0.741 total time=   0.6s\n",
      "[CV 3/3] END criterion=gini, max_depth=25, min_samples_split=10;, score=0.751 total time=   0.6s\n",
      "[CV 1/3] END criterion=gini, max_depth=50, min_samples_split=2;, score=0.760 total time=   1.0s\n",
      "[CV 2/3] END criterion=gini, max_depth=50, min_samples_split=2;, score=0.758 total time=   1.1s\n",
      "[CV 3/3] END criterion=gini, max_depth=50, min_samples_split=2;, score=0.766 total time=   1.0s\n",
      "[CV 1/3] END criterion=gini, max_depth=50, min_samples_split=5;, score=0.762 total time=   1.0s\n",
      "[CV 2/3] END criterion=gini, max_depth=50, min_samples_split=5;, score=0.756 total time=   1.0s\n",
      "[CV 3/3] END criterion=gini, max_depth=50, min_samples_split=5;, score=0.765 total time=   1.0s\n",
      "[CV 1/3] END criterion=gini, max_depth=50, min_samples_split=10;, score=0.763 total time=   1.0s\n",
      "[CV 2/3] END criterion=gini, max_depth=50, min_samples_split=10;, score=0.757 total time=   1.1s\n",
      "[CV 3/3] END criterion=gini, max_depth=50, min_samples_split=10;, score=0.768 total time=   1.0s\n",
      "[CV 1/3] END criterion=gini, max_depth=75, min_samples_split=2;, score=0.768 total time=   1.6s\n",
      "[CV 2/3] END criterion=gini, max_depth=75, min_samples_split=2;, score=0.759 total time=   1.5s\n",
      "[CV 3/3] END criterion=gini, max_depth=75, min_samples_split=2;, score=0.770 total time=   1.3s\n",
      "[CV 1/3] END criterion=gini, max_depth=75, min_samples_split=5;, score=0.764 total time=   1.3s\n",
      "[CV 2/3] END criterion=gini, max_depth=75, min_samples_split=5;, score=0.759 total time=   1.4s\n",
      "[CV 3/3] END criterion=gini, max_depth=75, min_samples_split=5;, score=0.766 total time=   1.3s\n",
      "[CV 1/3] END criterion=gini, max_depth=75, min_samples_split=10;, score=0.765 total time=   1.3s\n",
      "[CV 2/3] END criterion=gini, max_depth=75, min_samples_split=10;, score=0.754 total time=   1.4s\n",
      "[CV 3/3] END criterion=gini, max_depth=75, min_samples_split=10;, score=0.771 total time=   1.4s\n",
      "[CV 1/3] END criterion=gini, max_depth=100, min_samples_split=2;, score=0.773 total time=   1.6s\n",
      "[CV 2/3] END criterion=gini, max_depth=100, min_samples_split=2;, score=0.763 total time=   1.7s\n",
      "[CV 3/3] END criterion=gini, max_depth=100, min_samples_split=2;, score=0.775 total time=   1.6s\n",
      "[CV 1/3] END criterion=gini, max_depth=100, min_samples_split=5;, score=0.765 total time=   1.5s\n",
      "[CV 2/3] END criterion=gini, max_depth=100, min_samples_split=5;, score=0.760 total time=   1.7s\n",
      "[CV 3/3] END criterion=gini, max_depth=100, min_samples_split=5;, score=0.774 total time=   1.5s\n",
      "[CV 1/3] END criterion=gini, max_depth=100, min_samples_split=10;, score=0.774 total time=   1.6s\n",
      "[CV 2/3] END criterion=gini, max_depth=100, min_samples_split=10;, score=0.762 total time=   1.8s\n",
      "[CV 3/3] END criterion=gini, max_depth=100, min_samples_split=10;, score=0.770 total time=   1.6s\n",
      "[CV 1/3] END criterion=gini, max_depth=200, min_samples_split=2;, score=0.777 total time=   1.9s\n",
      "[CV 2/3] END criterion=gini, max_depth=200, min_samples_split=2;, score=0.767 total time=   2.1s\n",
      "[CV 3/3] END criterion=gini, max_depth=200, min_samples_split=2;, score=0.782 total time=   2.0s\n",
      "[CV 1/3] END criterion=gini, max_depth=200, min_samples_split=5;, score=0.778 total time=   1.9s\n",
      "[CV 2/3] END criterion=gini, max_depth=200, min_samples_split=5;, score=0.773 total time=   2.0s\n",
      "[CV 3/3] END criterion=gini, max_depth=200, min_samples_split=5;, score=0.780 total time=   2.0s\n",
      "[CV 1/3] END criterion=gini, max_depth=200, min_samples_split=10;, score=0.771 total time=   2.2s\n",
      "[CV 2/3] END criterion=gini, max_depth=200, min_samples_split=10;, score=0.771 total time=   2.1s\n",
      "[CV 3/3] END criterion=gini, max_depth=200, min_samples_split=10;, score=0.778 total time=   2.0s\n",
      "[CV 1/3] END criterion=entropy, max_depth=25, min_samples_split=2;, score=0.744 total time=   0.9s\n",
      "[CV 2/3] END criterion=entropy, max_depth=25, min_samples_split=2;, score=0.723 total time=   0.9s\n",
      "[CV 3/3] END criterion=entropy, max_depth=25, min_samples_split=2;, score=0.740 total time=   1.0s\n",
      "[CV 1/3] END criterion=entropy, max_depth=25, min_samples_split=5;, score=0.743 total time=   0.9s\n",
      "[CV 2/3] END criterion=entropy, max_depth=25, min_samples_split=5;, score=0.722 total time=   1.0s\n",
      "[CV 3/3] END criterion=entropy, max_depth=25, min_samples_split=5;, score=0.741 total time=   0.9s\n",
      "[CV 1/3] END criterion=entropy, max_depth=25, min_samples_split=10;, score=0.744 total time=   0.9s\n",
      "[CV 2/3] END criterion=entropy, max_depth=25, min_samples_split=10;, score=0.721 total time=   0.8s\n",
      "[CV 3/3] END criterion=entropy, max_depth=25, min_samples_split=10;, score=0.741 total time=   0.9s\n",
      "[CV 1/3] END criterion=entropy, max_depth=50, min_samples_split=2;, score=0.757 total time=   1.4s\n",
      "[CV 2/3] END criterion=entropy, max_depth=50, min_samples_split=2;, score=0.743 total time=   1.4s\n",
      "[CV 3/3] END criterion=entropy, max_depth=50, min_samples_split=2;, score=0.753 total time=   1.3s\n",
      "[CV 1/3] END criterion=entropy, max_depth=50, min_samples_split=5;, score=0.755 total time=   1.3s\n",
      "[CV 2/3] END criterion=entropy, max_depth=50, min_samples_split=5;, score=0.740 total time=   1.4s\n",
      "[CV 3/3] END criterion=entropy, max_depth=50, min_samples_split=5;, score=0.753 total time=   1.4s\n",
      "[CV 1/3] END criterion=entropy, max_depth=50, min_samples_split=10;, score=0.756 total time=   1.4s\n",
      "[CV 2/3] END criterion=entropy, max_depth=50, min_samples_split=10;, score=0.743 total time=   1.3s\n",
      "[CV 3/3] END criterion=entropy, max_depth=50, min_samples_split=10;, score=0.753 total time=   1.4s\n",
      "[CV 1/3] END criterion=entropy, max_depth=75, min_samples_split=2;, score=0.767 total time=   1.8s\n",
      "[CV 2/3] END criterion=entropy, max_depth=75, min_samples_split=2;, score=0.750 total time=   2.2s\n",
      "[CV 3/3] END criterion=entropy, max_depth=75, min_samples_split=2;, score=0.757 total time=   1.8s\n",
      "[CV 1/3] END criterion=entropy, max_depth=75, min_samples_split=5;, score=0.766 total time=   1.9s\n",
      "[CV 2/3] END criterion=entropy, max_depth=75, min_samples_split=5;, score=0.753 total time=   2.1s\n",
      "[CV 3/3] END criterion=entropy, max_depth=75, min_samples_split=5;, score=0.758 total time=   2.0s\n",
      "[CV 1/3] END criterion=entropy, max_depth=75, min_samples_split=10;, score=0.764 total time=   2.3s\n",
      "[CV 2/3] END criterion=entropy, max_depth=75, min_samples_split=10;, score=0.752 total time=   1.7s\n",
      "[CV 3/3] END criterion=entropy, max_depth=75, min_samples_split=10;, score=0.762 total time=   1.8s\n",
      "[CV 1/3] END criterion=entropy, max_depth=100, min_samples_split=2;, score=0.769 total time=   1.9s\n",
      "[CV 2/3] END criterion=entropy, max_depth=100, min_samples_split=2;, score=0.753 total time=   1.9s\n",
      "[CV 3/3] END criterion=entropy, max_depth=100, min_samples_split=2;, score=0.758 total time=   2.0s\n",
      "[CV 1/3] END criterion=entropy, max_depth=100, min_samples_split=5;, score=0.765 total time=   1.9s\n",
      "[CV 2/3] END criterion=entropy, max_depth=100, min_samples_split=5;, score=0.757 total time=   2.2s\n",
      "[CV 3/3] END criterion=entropy, max_depth=100, min_samples_split=5;, score=0.753 total time=   2.0s\n",
      "[CV 1/3] END criterion=entropy, max_depth=100, min_samples_split=10;, score=0.766 total time=   2.1s\n",
      "[CV 2/3] END criterion=entropy, max_depth=100, min_samples_split=10;, score=0.758 total time=   2.5s\n",
      "[CV 3/3] END criterion=entropy, max_depth=100, min_samples_split=10;, score=0.760 total time=   2.1s\n",
      "[CV 1/3] END criterion=entropy, max_depth=200, min_samples_split=2;, score=0.770 total time=   2.4s\n",
      "[CV 2/3] END criterion=entropy, max_depth=200, min_samples_split=2;, score=0.759 total time=   2.5s\n"
     ]
    },
    {
     "name": "stdout",
     "output_type": "stream",
     "text": [
      "[CV 3/3] END criterion=entropy, max_depth=200, min_samples_split=2;, score=0.768 total time=   2.8s\n",
      "[CV 1/3] END criterion=entropy, max_depth=200, min_samples_split=5;, score=0.773 total time=   3.1s\n",
      "[CV 2/3] END criterion=entropy, max_depth=200, min_samples_split=5;, score=0.752 total time=   2.7s\n",
      "[CV 3/3] END criterion=entropy, max_depth=200, min_samples_split=5;, score=0.763 total time=   2.6s\n",
      "[CV 1/3] END criterion=entropy, max_depth=200, min_samples_split=10;, score=0.771 total time=   2.3s\n",
      "[CV 2/3] END criterion=entropy, max_depth=200, min_samples_split=10;, score=0.763 total time=   2.4s\n",
      "[CV 3/3] END criterion=entropy, max_depth=200, min_samples_split=10;, score=0.762 total time=   2.5s\n"
     ]
    },
    {
     "data": {
      "text/plain": [
       "Pipeline(steps=[('vectorizer',\n",
       "                 TfidfVectorizer(tokenizer=<function <lambda> at 0x237E4610>)),\n",
       "                ('model',\n",
       "                 GridSearchCV(cv=3, estimator=DecisionTreeClassifier(),\n",
       "                              param_grid={'criterion': ['gini', 'entropy'],\n",
       "                                          'max_depth': [25, 50, 75, 100, 200],\n",
       "                                          'min_samples_split': [2, 5, 10]},\n",
       "                              verbose=4))])"
      ]
     },
     "execution_count": 143,
     "metadata": {},
     "output_type": "execute_result"
    }
   ],
   "source": [
    "dtc_grid_pipeline.fit(train_df[\"comment\"], train_df[\"toxic\"])"
   ]
  },
  {
   "cell_type": "code",
   "execution_count": 177,
   "metadata": {},
   "outputs": [],
   "source": [
    "dtc_pipeline = Pipeline([\n",
    "    (\"vectorizer\", TfidfVectorizer(tokenizer=lambda x: tokenize_sentence(x, remove_stop_words=True))),\n",
    "    (\"model\", DecisionTreeClassifier(criterion=\"gini\", max_depth=200, min_samples_split=2))\n",
    "]\n",
    ")"
   ]
  },
  {
   "cell_type": "code",
   "execution_count": 178,
   "metadata": {},
   "outputs": [
    {
     "data": {
      "text/plain": [
       "Pipeline(steps=[('vectorizer',\n",
       "                 TfidfVectorizer(tokenizer=<function <lambda> at 0x34EE8DA8>)),\n",
       "                ('model', DecisionTreeClassifier(max_depth=200))])"
      ]
     },
     "execution_count": 178,
     "metadata": {},
     "output_type": "execute_result"
    }
   ],
   "source": [
    "dtc_pipeline.fit(train_df[\"comment\"], train_df[\"toxic\"])"
   ]
  },
  {
   "cell_type": "code",
   "execution_count": 179,
   "metadata": {},
   "outputs": [
    {
     "data": {
      "text/plain": [
       "0.711864406779661"
      ]
     },
     "execution_count": 179,
     "metadata": {},
     "output_type": "execute_result"
    }
   ],
   "source": [
    "precision_score(y_true=test_df[\"toxic\"], y_pred=dtc_pipeline.predict(test_df[\"comment\"]))"
   ]
  },
  {
   "cell_type": "code",
   "execution_count": 180,
   "metadata": {},
   "outputs": [
    {
     "data": {
      "text/plain": [
       "0.5490196078431373"
      ]
     },
     "execution_count": 180,
     "metadata": {},
     "output_type": "execute_result"
    }
   ],
   "source": [
    "recall_score(y_true=test_df[\"toxic\"], y_pred=dtc_pipeline.predict(test_df[\"comment\"]))"
   ]
  },
  {
   "cell_type": "code",
   "execution_count": 181,
   "metadata": {},
   "outputs": [
    {
     "name": "stderr",
     "output_type": "stream",
     "text": [
      "c:\\users\\arisha\\appdata\\local\\programs\\python\\python38-32\\lib\\site-packages\\sklearn\\utils\\deprecation.py:87: FutureWarning: Function plot_precision_recall_curve is deprecated; Function `plot_precision_recall_curve` is deprecated in 1.0 and will be removed in 1.2. Use one of the class methods: PrecisionRecallDisplay.from_predictions or PrecisionRecallDisplay.from_estimator.\n",
      "  warnings.warn(msg, category=FutureWarning)\n"
     ]
    },
    {
     "data": {
      "text/plain": [
       "<sklearn.metrics._plot.precision_recall_curve.PrecisionRecallDisplay at 0x3462b328>"
      ]
     },
     "execution_count": 181,
     "metadata": {},
     "output_type": "execute_result"
    },
    {
     "data": {
      "image/png": "[encoded data removed]",
      "text/plain": [
       "<Figure size 432x288 with 1 Axes>"
      ]
     },
     "metadata": {
      "needs_background": "light"
     },
     "output_type": "display_data"
    }
   ],
   "source": [
    "plot_precision_recall_curve(estimator=dtc_pipeline, X=test_df[\"comment\"], y=test_df[\"toxic\"])"
   ]
  },
  {
   "cell_type": "markdown",
   "metadata": {},
   "source": [
    "# Bonus Logistic Regression"
   ]
  },
  {
   "cell_type": "code",
   "execution_count": 182,
   "metadata": {},
   "outputs": [],
   "source": [
    "lr_grid_pipeline = Pipeline([\n",
    "    (\"vectorizer\", TfidfVectorizer(tokenizer=lambda x: tokenize_sentence(x, remove_stop_words=True))),\n",
    "    (\"model\", \n",
    "     GridSearchCV(\n",
    "        LogisticRegression(random_state=0, max_iter=1000),\n",
    "        param_grid={'C': [0.1, 1., 5.]},\n",
    "        cv=3,\n",
    "         verbose=4\n",
    "        )\n",
    "    )\n",
    "])"
   ]
  },
  {
   "cell_type": "code",
   "execution_count": 183,
   "metadata": {},
   "outputs": [
    {
     "name": "stdout",
     "output_type": "stream",
     "text": [
      "Fitting 3 folds for each of 3 candidates, totalling 9 fits\n",
      "[CV 1/3] END .............................C=0.1;, score=0.686 total time=   0.1s\n",
      "[CV 2/3] END .............................C=0.1;, score=0.684 total time=   0.1s\n",
      "[CV 3/3] END .............................C=0.1;, score=0.687 total time=   0.1s\n",
      "[CV 1/3] END .............................C=1.0;, score=0.842 total time=   0.3s\n",
      "[CV 2/3] END .............................C=1.0;, score=0.836 total time=   0.2s\n",
      "[CV 3/3] END .............................C=1.0;, score=0.837 total time=   0.2s\n",
      "[CV 1/3] END .............................C=5.0;, score=0.869 total time=   0.7s\n",
      "[CV 2/3] END .............................C=5.0;, score=0.862 total time=   0.5s\n",
      "[CV 3/3] END .............................C=5.0;, score=0.857 total time=   0.5s\n"
     ]
    },
    {
     "data": {
      "text/plain": [
       "Pipeline(steps=[('vectorizer',\n",
       "                 TfidfVectorizer(tokenizer=<function <lambda> at 0x35263580>)),\n",
       "                ('model',\n",
       "                 GridSearchCV(cv=3,\n",
       "                              estimator=LogisticRegression(max_iter=1000,\n",
       "                                                           random_state=0),\n",
       "                              param_grid={'C': [0.1, 1.0, 5.0]}, verbose=4))])"
      ]
     },
     "execution_count": 183,
     "metadata": {},
     "output_type": "execute_result"
    }
   ],
   "source": [
    "lr_grid_pipeline.fit(train_df[\"comment\"], train_df[\"toxic\"])"
   ]
  },
  {
   "cell_type": "code",
   "execution_count": 184,
   "metadata": {},
   "outputs": [],
   "source": [
    "lr_pipeline = Pipeline([\n",
    "    (\"vectorizer\", TfidfVectorizer(tokenizer=lambda x: tokenize_sentence(x, remove_stop_words=True))),\n",
    "    (\"model\", LogisticRegression(random_state=0, C=5., max_iter=1000))\n",
    "]\n",
    ")"
   ]
  },
  {
   "cell_type": "code",
   "execution_count": 185,
   "metadata": {},
   "outputs": [
    {
     "data": {
      "text/plain": [
       "Pipeline(steps=[('vectorizer',\n",
       "                 TfidfVectorizer(tokenizer=<function <lambda> at 0x3691AA00>)),\n",
       "                ('model',\n",
       "                 LogisticRegression(C=5.0, max_iter=1000, random_state=0))])"
      ]
     },
     "execution_count": 185,
     "metadata": {},
     "output_type": "execute_result"
    }
   ],
   "source": [
    "lr_pipeline.fit(train_df[\"comment\"], train_df[\"toxic\"])"
   ]
  },
  {
   "cell_type": "code",
   "execution_count": 186,
   "metadata": {},
   "outputs": [
    {
     "data": {
      "text/plain": [
       "0.8740740740740741"
      ]
     },
     "execution_count": 186,
     "metadata": {},
     "output_type": "execute_result"
    }
   ],
   "source": [
    "precision_score(y_true=test_df[\"toxic\"], y_pred=lr_pipeline.predict(test_df[\"comment\"]))"
   ]
  },
  {
   "cell_type": "code",
   "execution_count": 187,
   "metadata": {},
   "outputs": [
    {
     "data": {
      "text/plain": [
       "0.7712418300653595"
      ]
     },
     "execution_count": 187,
     "metadata": {},
     "output_type": "execute_result"
    }
   ],
   "source": [
    "recall_score(y_true=test_df[\"toxic\"], y_pred=lr_pipeline.predict(test_df[\"comment\"]))"
   ]
  },
  {
   "cell_type": "code",
   "execution_count": 188,
   "metadata": {},
   "outputs": [
    {
     "name": "stderr",
     "output_type": "stream",
     "text": [
      "c:\\users\\arisha\\appdata\\local\\programs\\python\\python38-32\\lib\\site-packages\\sklearn\\utils\\deprecation.py:87: FutureWarning: Function plot_precision_recall_curve is deprecated; Function `plot_precision_recall_curve` is deprecated in 1.0 and will be removed in 1.2. Use one of the class methods: PrecisionRecallDisplay.from_predictions or PrecisionRecallDisplay.from_estimator.\n",
      "  warnings.warn(msg, category=FutureWarning)\n"
     ]
    },
    {
     "data": {
      "text/plain": [
       "<sklearn.metrics._plot.precision_recall_curve.PrecisionRecallDisplay at 0x346166d0>"
      ]
     },
     "execution_count": 188,
     "metadata": {},
     "output_type": "execute_result"
    },
    {
     "data": {
      "image/png": "[encoded data removed]",
      "text/plain": [
       "<Figure size 432x288 with 1 Axes>"
      ]
     },
     "metadata": {
      "needs_background": "light"
     },
     "output_type": "display_data"
    }
   ],
   "source": [
    "plot_precision_recall_curve(estimator=lr_pipeline, X=test_df[\"comment\"], y=test_df[\"toxic\"])"
   ]
  },
  {
   "cell_type": "code",
   "execution_count": 189,
   "metadata": {},
   "outputs": [],
   "source": [
    "lr_prec, lr_rec, lr_thresholds = precision_recall_curve(\n",
    "    y_true=test_df[\"toxic\"],\n",
    "    probas_pred=lr_pipeline.predict_proba(test_df[\"comment\"])[:, 1])"
   ]
  },
  {
   "cell_type": "code",
   "execution_count": 190,
   "metadata": {
    "scrolled": true
   },
   "outputs": [
    {
     "data": {
      "text/plain": [
       "(array([414, 415, 416, 417, 418, 419, 420, 421, 422, 423, 424, 425, 426,\n",
       "        427, 428, 429, 430, 431, 432, 433, 434, 435, 436, 437, 438, 439,\n",
       "        440, 441, 442, 445, 446, 447, 448, 449, 450, 451, 452, 453, 454,\n",
       "        455, 456, 457, 458, 459, 460, 461, 462, 466, 467, 468, 469, 470,\n",
       "        471, 472, 473, 474, 475, 476, 477, 478, 479, 480, 481, 482, 483],\n",
       "       dtype=int32),)"
      ]
     },
     "execution_count": 190,
     "metadata": {},
     "output_type": "execute_result"
    }
   ],
   "source": [
    "np.where(lr_prec > 0.95)"
   ]
  },
  {
   "cell_type": "code",
   "execution_count": 191,
   "metadata": {},
   "outputs": [
    {
     "data": {
      "text/plain": [
       "0.8360862216783078"
      ]
     },
     "execution_count": 191,
     "metadata": {},
     "output_type": "execute_result"
    }
   ],
   "source": [
    "lr_thresholds[414]"
   ]
  },
  {
   "cell_type": "code",
   "execution_count": 192,
   "metadata": {},
   "outputs": [
    {
     "data": {
      "text/plain": [
       "0.9558823529411765"
      ]
     },
     "execution_count": 192,
     "metadata": {},
     "output_type": "execute_result"
    }
   ],
   "source": [
    "precision_score(y_true=test_df[\"toxic\"], y_pred=lr_pipeline.predict_proba(test_df[\"comment\"])[:, 1] > lr_thresholds[414])"
   ]
  },
  {
   "cell_type": "code",
   "execution_count": 193,
   "metadata": {},
   "outputs": [
    {
     "data": {
      "text/plain": [
       "0.42483660130718953"
      ]
     },
     "execution_count": 193,
     "metadata": {},
     "output_type": "execute_result"
    }
   ],
   "source": [
    "recall_score(y_true=test_df[\"toxic\"], y_pred=lr_pipeline.predict_proba(test_df[\"comment\"])[:, 1] > lr_thresholds[414])\n"
   ]
  }
 ],
 "metadata": {
  "kernelspec": {
   "display_name": "Python 3",
   "language": "python",
   "name": "python3"
  },
  "language_info": {
   "codemirror_mode": {
    "name": "ipython",
    "version": 3
   },
   "file_extension": ".py",
   "mimetype": "text/x-python",
   "name": "python",
   "nbconvert_exporter": "python",
   "pygments_lexer": "ipython3",
   "version": "3.8.2"
  }
 },
 "nbformat": 4,
 "nbformat_minor": 4
}
